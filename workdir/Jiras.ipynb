{
 "cells": [
  {
   "cell_type": "code",
   "execution_count": 1,
   "metadata": {},
   "outputs": [],
   "source": [
    "import sqlite3"
   ]
  },
  {
   "cell_type": "code",
   "execution_count": 3,
   "metadata": {},
   "outputs": [],
   "source": [
    "import jira"
   ]
  },
  {
   "cell_type": "code",
   "execution_count": null,
   "metadata": {},
   "outputs": [],
   "source": [
    "def get_jiras():\n",
    "    jira = JIRA('https://gojira.yourcompany.com', basic_auth=('username', 'password'))\n",
    "    issues = jira.search_issues('labels in (Vulnerability)', maxResults=200)\n",
    "    return issues"
   ]
  },
  {
   "cell_type": "code",
   "execution_count": null,
   "metadata": {},
   "outputs": [],
   "source": [
    "def dbconnector():\n",
    "    conn = sqlite3.connect('jiras.db')\n",
    "    try:\n",
    "        conn.execute('''CREATE TABLE jiras (hash text, id text, status text, summary text, squad text, tribe text,reporter text,vuln_category text, vuln_source text, level text, created DATETIME, closed DATETIME,overdue text)''')\n",
    "        conn.commit()\n",
    "    except:\n",
    "        pass\n",
    "    conn.close()"
   ]
  },
  {
   "cell_type": "code",
   "execution_count": null,
   "metadata": {},
   "outputs": [],
   "source": [
    "def db_updater(issues):\n",
    "    conn = sqlite3.connect('jiras.db')\n",
    "    c = conn.cursor()\n",
    "    for x in issues:\n",
    "        hashy =hashlib.md5()\n",
    "        hashy.update((x.fields.summary.encode('utf8')))\n",
    "        hashy.digest()\n",
    "        c.execute(\"SELECT hash from jiras where hash =?\",(hashy.hexdigest(),))\n",
    "        res = c.fetchall()\n",
    "        \n",
    "        if res == []:\n",
    "            prjname = x.fields.project.key\n",
    "            tribe=get_tribe_jira(str(prjname))\n",
    "            if 'Overdue' in x.fields.labels:\n",
    "                overdue = 'True'\n",
    "            else:\n",
    "                overdue = 'False'\n",
    "            reporter = unicode(x.fields.reporter)\n",
    "            c.execute(\"INSERT INTO jiras VALUES(?,?,?,?,?,?,?,?,?,?,?,?,?)\",(str(hashy.hexdigest()),x.id,str(x.fields.status).encode('utf-8'),str(x.fields.summary.encode('ascii','ignore')),str(prjname),str(tribe),reporter,str(x.fields.customfield_19502),str(x.fields.customfield_19505),str(x.fields.priority),str(x.fields.created)[0:10],str(x.fields.resolutiondate)[0:10],overdue))\n",
    "            conn.commit()\n",
    "    conn.close()"
   ]
  },
  {
   "cell_type": "code",
   "execution_count": null,
   "metadata": {},
   "outputs": [],
   "source": [
    "dbconnector()"
   ]
  },
  {
   "cell_type": "code",
   "execution_count": null,
   "metadata": {},
   "outputs": [],
   "source": [
    "issues = get_jiras()"
   ]
  },
  {
   "cell_type": "code",
   "execution_count": null,
   "metadata": {},
   "outputs": [],
   "source": [
    "db_updater(issues)"
   ]
  }
 ],
 "metadata": {
  "kernelspec": {
   "display_name": "Python 3",
   "language": "python",
   "name": "python3"
  },
  "language_info": {
   "codemirror_mode": {
    "name": "ipython",
    "version": 3
   },
   "file_extension": ".py",
   "mimetype": "text/x-python",
   "name": "python",
   "nbconvert_exporter": "python",
   "pygments_lexer": "ipython3",
   "version": "3.6.1"
  }
 },
 "nbformat": 4,
 "nbformat_minor": 2
}
